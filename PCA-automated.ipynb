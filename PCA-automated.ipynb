{
 "cells": [
  {
   "cell_type": "code",
   "execution_count": 1,
   "id": "58a3d2f4",
   "metadata": {
    "scrolled": true
   },
   "outputs": [
    {
     "name": "stderr",
     "output_type": "stream",
     "text": [
      "D:\\Program Files (x86)\\Anaconda\\envs\\deeplearning\\lib\\site-packages\\torchvision\\io\\image.py:11: UserWarning: Failed to load image Python extension: Could not find module 'D:\\Program Files (x86)\\Anaconda\\envs\\deeplearning\\Lib\\site-packages\\torchvision\\image.pyd' (or one of its dependencies). Try using the full path with constructor syntax.\n",
      "  warn(f\"Failed to load image Python extension: {e}\")\n"
     ]
    }
   ],
   "source": [
    "import torch\n",
    "import numpy as np\n",
    "from torch import nn\n",
    "from torchvision import datasets\n",
    "from torchvision import transforms\n",
    "from torch import optim\n",
    "from tqdm import tqdm \n",
    "from sklearn.decomposition import PCA\n",
    "import matplotlib.pyplot as plt\n",
    "import time"
   ]
  },
  {
   "cell_type": "code",
   "execution_count": 2,
   "id": "a4f98b36",
   "metadata": {},
   "outputs": [],
   "source": [
    "def torchPCA(train, test, k):\n",
    "    print(f\"Performing PCA with k value: {k}\")\n",
    "    #FIT ON TRAIN, THEN TRANSFORM TRAIN *AND* TEST (i think?)\n",
    "    #since batch size = entire dataset, just grab first batch from dataloader\n",
    "    data = iter(train) \n",
    "    single_point = next(data) # in this case the 'single point' is the entire batch\n",
    "    x = single_point[0]\n",
    "    b, c, h, w = x.shape\n",
    "    x = x.view(b, -1) # Flatten image\n",
    "    x = x.numpy() # convert to np array for pca\n",
    "    pca = PCA(n_components=k)\n",
    "    pca.fit(x)\n",
    "    x = pca.transform(x)\n",
    "    x = torch.from_numpy(x).to(device)\n",
    "    #TEST transform\n",
    "    data = iter(test) \n",
    "    single_point = next(data)\n",
    "    y = single_point[0]\n",
    "    b, c, h, w = y.shape\n",
    "    y = y.view(b, -1) # Flatten image\n",
    "    y = y.numpy() # convert to np array for pca\n",
    "    y = pca.transform(y) #transform according to train set for consistency (?)\n",
    "    y = torch.from_numpy(y).to(device)\n",
    "    return x, y"
   ]
  },
  {
   "cell_type": "code",
   "execution_count": 3,
   "id": "41412fb4",
   "metadata": {},
   "outputs": [],
   "source": [
    "def trainPCA(train_data, trainX_PCA, model):    \n",
    "    print(\"Training Start\")\n",
    "    start_time = time.time()\n",
    "    model.train()\n",
    "    loss_history = []\n",
    "    loss = torch.Tensor([0])\n",
    "    for epoch in tqdm(range(nepochs),\n",
    "                      desc=f\"Epoch\",\n",
    "                      unit=\"epoch\",\n",
    "                      disable=False):\n",
    "        for (data, label) in tqdm(train_data,\n",
    "                                  desc=\"iteration\",\n",
    "                                  unit=\"%\",\n",
    "                                  disable=True):\n",
    "            optimizer.zero_grad(set_to_none=True) \n",
    "\n",
    "            # data = data.to(device)\n",
    "            label = label.to(device)\n",
    "            out = model(trainX_PCA) \n",
    "\n",
    "            loss = LossFunction(out, label)\n",
    "\n",
    "            loss.backward() \n",
    "            optimizer.step()\n",
    "            loss_history.append(loss.item())\n",
    "        print(f\"Epoch {epoch}: loss: {loss.item()}\")\n",
    "    elapsed = time.time() - start_time\n",
    "    return elapsed, loss_history"
   ]
  },
  {
   "cell_type": "code",
   "execution_count": 4,
   "id": "7de3b829",
   "metadata": {},
   "outputs": [],
   "source": [
    "def testPCA(test_data, testX_PCA, model):\n",
    "    print(\"Test Start\")\n",
    "    model.eval()\n",
    "    accuracy = 0\n",
    "    for (data, label) in test_data:\n",
    "        #data = data.to(device)\n",
    "        label = label.to(device)\n",
    "        out = model(testX_PCA)\n",
    "        answers = out.max(dim=1)[1]\n",
    "        accuracy += (answers == label).sum()\n",
    "    print(f\"Total accuracy = {accuracy / len(cifar10_test_dataset)*100:.2f}%\")\n",
    "    accuracy = (accuracy / len(cifar10_test_dataset)*100)\n",
    "    return accuracy"
   ]
  },
  {
   "cell_type": "code",
   "execution_count": 5,
   "id": "da307836",
   "metadata": {},
   "outputs": [],
   "source": [
    "def trainAndTest_PCA(k, train, test, model):\n",
    "    trainX, testX = torchPCA(train, test, k)\n",
    "    elapsed, loss_history = trainPCA(train, trainX, model)\n",
    "    accuracy = testPCA(test, testX, model)\n",
    "    return elapsed, loss_history, accuracy"
   ]
  },
  {
   "cell_type": "code",
   "execution_count": 6,
   "id": "404f2e57",
   "metadata": {},
   "outputs": [],
   "source": [
    "class SimpleNet(nn.Module):\n",
    "    def __init__(self,\n",
    "                 ninputs=28*28,\n",
    "                 nhidden=512,\n",
    "                 nout=10,\n",
    "                ):\n",
    "        super().__init__()\n",
    "        self.net = nn.Sequential(\n",
    "            nn.Linear(ninputs, nhidden),\n",
    "            nn.ReLU(),\n",
    "            nn.Linear(nhidden, nhidden),\n",
    "            nn.ReLU(),\n",
    "            nn.Linear(nhidden, nout),\n",
    "            nn.ReLU(),\n",
    "        )\n",
    "        \n",
    "    def forward(self, x):\n",
    "        x = self.net(x)\n",
    "        return x"
   ]
  },
  {
   "cell_type": "code",
   "execution_count": 7,
   "id": "8864ab89",
   "metadata": {},
   "outputs": [
    {
     "name": "stdout",
     "output_type": "stream",
     "text": [
      "Files already downloaded and verified\n",
      "Files already downloaded and verified\n"
     ]
    }
   ],
   "source": [
    "#data\n",
    "#load entire dataset for PCA (gaming PC go brr)\n",
    "train_all = 50000\n",
    "test_all =  10000\n",
    "\n",
    "#normalize\n",
    "transform = transforms.Compose(\n",
    "    [transforms.ToTensor(),\n",
    "     ])\n",
    "    #transforms.Normalize((0.49139968, 0.48215827 ,0.44653124), (0.24703233 0.24348505 0.26158768))\n",
    "#train\n",
    "cifar10_train_dataset = datasets.CIFAR10(root='./', # here\n",
    "                               train=True, # train split\n",
    "                               download=True, # we want to get the data\n",
    "                               transform=transform #put it into tensor format\n",
    "                        )\n",
    "train_data = torch.utils.data.DataLoader(cifar10_train_dataset,\n",
    "                        batch_size=train_all,\n",
    "                        shuffle=True\n",
    "                        )\n",
    "\n",
    "#test\n",
    "cifar10_test_dataset = datasets.CIFAR10(root='./', # here\n",
    "                               train=False, # test split\n",
    "                               download=True, # we want to get the data\n",
    "                               transform=transform # put it into tensor format\n",
    "                        )\n",
    "test_data = torch.utils.data.DataLoader(cifar10_test_dataset,\n",
    "                        batch_size=test_all,\n",
    "                        shuffle=True\n",
    "                        )"
   ]
  },
  {
   "cell_type": "code",
   "execution_count": 8,
   "id": "fe0acfab",
   "metadata": {},
   "outputs": [],
   "source": [
    "device = torch.device(\"cuda\" if torch.cuda.is_available() else \"cpu\")\n",
    "# parameters\n",
    "learning_rate=5e-1\n",
    "nepochs = 10\n",
    "nout=10\n",
    "\n",
    "LossFunction = nn.CrossEntropyLoss()"
   ]
  },
  {
   "cell_type": "code",
   "execution_count": 9,
   "id": "59884674",
   "metadata": {},
   "outputs": [
    {
     "name": "stdout",
     "output_type": "stream",
     "text": [
      "[2765, 2458, 2150, 1843, 1536, 1229, 922, 614, 307]\n"
     ]
    }
   ],
   "source": [
    "k_percents = []\n",
    "for i in range(9):\n",
    "    #want decreasing percents 90%, 80%, ..., 10%\n",
    "    factor = 0.9 - (i*0.1)\n",
    "    k_percents.append(round(3072*factor))\n",
    "print(k_percents)\n",
    "# welp, large %'s dont fit in memory, so I just use higher indices below"
   ]
  },
  {
   "cell_type": "code",
   "execution_count": 10,
   "id": "b3a0c3fd",
   "metadata": {},
   "outputs": [
    {
     "name": "stdout",
     "output_type": "stream",
     "text": [
      "Performing PCA with k value: 922\n",
      "Training Start\n"
     ]
    },
    {
     "name": "stderr",
     "output_type": "stream",
     "text": [
      "Epoch:  10%|█         | 1/10 [00:09<01:28,  9.79s/epoch]"
     ]
    },
    {
     "name": "stdout",
     "output_type": "stream",
     "text": [
      "Epoch 0: loss: 2.302915096282959\n"
     ]
    },
    {
     "name": "stderr",
     "output_type": "stream",
     "text": [
      "\r",
      "Epoch:  20%|██        | 2/10 [00:20<01:24, 10.62s/epoch]"
     ]
    },
    {
     "name": "stdout",
     "output_type": "stream",
     "text": [
      "Epoch 1: loss: 2.302809953689575\n"
     ]
    },
    {
     "name": "stderr",
     "output_type": "stream",
     "text": [
      "\r",
      "Epoch:  30%|███       | 3/10 [00:28<01:05,  9.41s/epoch]"
     ]
    },
    {
     "name": "stdout",
     "output_type": "stream",
     "text": [
      "Epoch 2: loss: 2.3029322624206543\n"
     ]
    },
    {
     "name": "stderr",
     "output_type": "stream",
     "text": [
      "\r",
      "Epoch:  40%|████      | 4/10 [00:36<00:53,  8.87s/epoch]"
     ]
    },
    {
     "name": "stdout",
     "output_type": "stream",
     "text": [
      "Epoch 3: loss: 2.3028581142425537\n"
     ]
    },
    {
     "name": "stderr",
     "output_type": "stream",
     "text": [
      "\r",
      "Epoch:  50%|█████     | 5/10 [00:45<00:42,  8.57s/epoch]"
     ]
    },
    {
     "name": "stdout",
     "output_type": "stream",
     "text": [
      "Epoch 4: loss: 2.3027565479278564\n"
     ]
    },
    {
     "name": "stderr",
     "output_type": "stream",
     "text": [
      "\r",
      "Epoch:  60%|██████    | 6/10 [00:53<00:33,  8.38s/epoch]"
     ]
    },
    {
     "name": "stdout",
     "output_type": "stream",
     "text": [
      "Epoch 5: loss: 2.302609443664551\n"
     ]
    },
    {
     "name": "stderr",
     "output_type": "stream",
     "text": [
      "\r",
      "Epoch:  70%|███████   | 7/10 [01:01<00:24,  8.31s/epoch]"
     ]
    },
    {
     "name": "stdout",
     "output_type": "stream",
     "text": [
      "Epoch 6: loss: 2.3028182983398438\n"
     ]
    },
    {
     "name": "stderr",
     "output_type": "stream",
     "text": [
      "\r",
      "Epoch:  80%|████████  | 8/10 [01:09<00:16,  8.24s/epoch]"
     ]
    },
    {
     "name": "stdout",
     "output_type": "stream",
     "text": [
      "Epoch 7: loss: 2.3027164936065674\n"
     ]
    },
    {
     "name": "stderr",
     "output_type": "stream",
     "text": [
      "\r",
      "Epoch:  90%|█████████ | 9/10 [01:17<00:08,  8.17s/epoch]"
     ]
    },
    {
     "name": "stdout",
     "output_type": "stream",
     "text": [
      "Epoch 8: loss: 2.3027055263519287\n"
     ]
    },
    {
     "name": "stderr",
     "output_type": "stream",
     "text": [
      "Epoch: 100%|██████████| 10/10 [01:25<00:00,  8.55s/epoch]"
     ]
    },
    {
     "name": "stdout",
     "output_type": "stream",
     "text": [
      "Epoch 9: loss: 2.3026790618896484\n",
      "Test Start\n"
     ]
    },
    {
     "name": "stderr",
     "output_type": "stream",
     "text": [
      "\n"
     ]
    },
    {
     "name": "stdout",
     "output_type": "stream",
     "text": [
      "Total accuracy = 9.90%\n",
      "Performing PCA with k value: 614\n",
      "Training Start\n"
     ]
    },
    {
     "name": "stderr",
     "output_type": "stream",
     "text": [
      "Epoch:  10%|█         | 1/10 [00:08<01:12,  8.04s/epoch]"
     ]
    },
    {
     "name": "stdout",
     "output_type": "stream",
     "text": [
      "Epoch 0: loss: 2.3029913902282715\n"
     ]
    },
    {
     "name": "stderr",
     "output_type": "stream",
     "text": [
      "\r",
      "Epoch:  20%|██        | 2/10 [00:16<01:04,  8.07s/epoch]"
     ]
    },
    {
     "name": "stdout",
     "output_type": "stream",
     "text": [
      "Epoch 1: loss: 2.3029422760009766\n"
     ]
    },
    {
     "name": "stderr",
     "output_type": "stream",
     "text": [
      "\r",
      "Epoch:  30%|███       | 3/10 [00:24<00:56,  8.12s/epoch]"
     ]
    },
    {
     "name": "stdout",
     "output_type": "stream",
     "text": [
      "Epoch 2: loss: 2.3027777671813965\n"
     ]
    },
    {
     "name": "stderr",
     "output_type": "stream",
     "text": [
      "\r",
      "Epoch:  40%|████      | 4/10 [00:32<00:48,  8.13s/epoch]"
     ]
    },
    {
     "name": "stdout",
     "output_type": "stream",
     "text": [
      "Epoch 3: loss: 2.3027191162109375\n"
     ]
    },
    {
     "name": "stderr",
     "output_type": "stream",
     "text": [
      "\r",
      "Epoch:  50%|█████     | 5/10 [00:40<00:40,  8.15s/epoch]"
     ]
    },
    {
     "name": "stdout",
     "output_type": "stream",
     "text": [
      "Epoch 4: loss: 2.302753210067749\n"
     ]
    },
    {
     "name": "stderr",
     "output_type": "stream",
     "text": [
      "\r",
      "Epoch:  60%|██████    | 6/10 [00:48<00:32,  8.19s/epoch]"
     ]
    },
    {
     "name": "stdout",
     "output_type": "stream",
     "text": [
      "Epoch 5: loss: 2.302872896194458\n"
     ]
    },
    {
     "name": "stderr",
     "output_type": "stream",
     "text": [
      "\r",
      "Epoch:  70%|███████   | 7/10 [00:57<00:25,  8.38s/epoch]"
     ]
    },
    {
     "name": "stdout",
     "output_type": "stream",
     "text": [
      "Epoch 6: loss: 2.3029701709747314\n"
     ]
    },
    {
     "name": "stderr",
     "output_type": "stream",
     "text": [
      "\r",
      "Epoch:  80%|████████  | 8/10 [01:05<00:16,  8.36s/epoch]"
     ]
    },
    {
     "name": "stdout",
     "output_type": "stream",
     "text": [
      "Epoch 7: loss: 2.302804708480835\n"
     ]
    },
    {
     "name": "stderr",
     "output_type": "stream",
     "text": [
      "\r",
      "Epoch:  90%|█████████ | 9/10 [01:14<00:08,  8.34s/epoch]"
     ]
    },
    {
     "name": "stdout",
     "output_type": "stream",
     "text": [
      "Epoch 8: loss: 2.302586317062378\n"
     ]
    },
    {
     "name": "stderr",
     "output_type": "stream",
     "text": [
      "Epoch: 100%|██████████| 10/10 [01:22<00:00,  8.28s/epoch]"
     ]
    },
    {
     "name": "stdout",
     "output_type": "stream",
     "text": [
      "Epoch 9: loss: 2.302849292755127\n",
      "Test Start\n"
     ]
    },
    {
     "name": "stderr",
     "output_type": "stream",
     "text": [
      "\n"
     ]
    },
    {
     "name": "stdout",
     "output_type": "stream",
     "text": [
      "Total accuracy = 9.99%\n",
      "Performing PCA with k value: 307\n",
      "Training Start\n"
     ]
    },
    {
     "name": "stderr",
     "output_type": "stream",
     "text": [
      "Epoch:  10%|█         | 1/10 [00:08<01:17,  8.59s/epoch]"
     ]
    },
    {
     "name": "stdout",
     "output_type": "stream",
     "text": [
      "Epoch 0: loss: 2.303600311279297\n"
     ]
    },
    {
     "name": "stderr",
     "output_type": "stream",
     "text": [
      "\r",
      "Epoch:  20%|██        | 2/10 [00:17<01:08,  8.52s/epoch]"
     ]
    },
    {
     "name": "stdout",
     "output_type": "stream",
     "text": [
      "Epoch 1: loss: 2.303173065185547\n"
     ]
    },
    {
     "name": "stderr",
     "output_type": "stream",
     "text": [
      "\r",
      "Epoch:  30%|███       | 3/10 [00:26<01:01,  8.78s/epoch]"
     ]
    },
    {
     "name": "stdout",
     "output_type": "stream",
     "text": [
      "Epoch 2: loss: 2.303170680999756\n"
     ]
    },
    {
     "name": "stderr",
     "output_type": "stream",
     "text": [
      "\r",
      "Epoch:  40%|████      | 4/10 [00:34<00:52,  8.74s/epoch]"
     ]
    },
    {
     "name": "stdout",
     "output_type": "stream",
     "text": [
      "Epoch 3: loss: 2.3029794692993164\n"
     ]
    },
    {
     "name": "stderr",
     "output_type": "stream",
     "text": [
      "\r",
      "Epoch:  50%|█████     | 5/10 [00:43<00:43,  8.75s/epoch]"
     ]
    },
    {
     "name": "stdout",
     "output_type": "stream",
     "text": [
      "Epoch 4: loss: 2.3031063079833984\n"
     ]
    },
    {
     "name": "stderr",
     "output_type": "stream",
     "text": [
      "\r",
      "Epoch:  60%|██████    | 6/10 [00:52<00:34,  8.69s/epoch]"
     ]
    },
    {
     "name": "stdout",
     "output_type": "stream",
     "text": [
      "Epoch 5: loss: 2.3028643131256104\n"
     ]
    },
    {
     "name": "stderr",
     "output_type": "stream",
     "text": [
      "\r",
      "Epoch:  70%|███████   | 7/10 [01:00<00:25,  8.64s/epoch]"
     ]
    },
    {
     "name": "stdout",
     "output_type": "stream",
     "text": [
      "Epoch 6: loss: 2.302830219268799\n"
     ]
    },
    {
     "name": "stderr",
     "output_type": "stream",
     "text": [
      "\r",
      "Epoch:  80%|████████  | 8/10 [01:09<00:17,  8.61s/epoch]"
     ]
    },
    {
     "name": "stdout",
     "output_type": "stream",
     "text": [
      "Epoch 7: loss: 2.302980899810791\n"
     ]
    },
    {
     "name": "stderr",
     "output_type": "stream",
     "text": [
      "\r",
      "Epoch:  90%|█████████ | 9/10 [01:18<00:08,  8.77s/epoch]"
     ]
    },
    {
     "name": "stdout",
     "output_type": "stream",
     "text": [
      "Epoch 8: loss: 2.3028879165649414\n"
     ]
    },
    {
     "name": "stderr",
     "output_type": "stream",
     "text": [
      "Epoch: 100%|██████████| 10/10 [01:27<00:00,  8.71s/epoch]"
     ]
    },
    {
     "name": "stdout",
     "output_type": "stream",
     "text": [
      "Epoch 9: loss: 2.3026909828186035\n",
      "Test Start\n"
     ]
    },
    {
     "name": "stderr",
     "output_type": "stream",
     "text": [
      "\n"
     ]
    },
    {
     "name": "stdout",
     "output_type": "stream",
     "text": [
      "Total accuracy = 9.38%\n"
     ]
    }
   ],
   "source": [
    "elapsed = []\n",
    "loss_histories = []\n",
    "accuracies = []\n",
    "for i in range(6,9):\n",
    "    k = k_percents[i]\n",
    "    ninputs=k\n",
    "    nhidden=k\n",
    "    model = SimpleNet(ninputs=ninputs,\n",
    "                  nhidden=nhidden,\n",
    "                  nout=nout).to(device)\n",
    "    optimizer = optim.SGD(model.parameters(), lr=learning_rate)\n",
    "    e, l, a = trainAndTest_PCA(k, train_data, test_data, model)\n",
    "    elapsed.append(e)\n",
    "    loss_histories.append(l)\n",
    "    accuracies.append(a)"
   ]
  },
  {
   "cell_type": "code",
   "execution_count": 11,
   "id": "d0ff3fe0",
   "metadata": {},
   "outputs": [
    {
     "name": "stdout",
     "output_type": "stream",
     "text": [
      "[85.47521591186523, 82.75961494445801, 87.05348753929138]\n"
     ]
    }
   ],
   "source": [
    "print(elapsed)"
   ]
  },
  {
   "cell_type": "code",
   "execution_count": 12,
   "id": "3303e61f",
   "metadata": {},
   "outputs": [
    {
     "name": "stdout",
     "output_type": "stream",
     "text": [
      "[[2.302915096282959, 2.302809953689575, 2.3029322624206543, 2.3028581142425537, 2.3027565479278564, 2.302609443664551, 2.3028182983398438, 2.3027164936065674, 2.3027055263519287, 2.3026790618896484], [2.3029913902282715, 2.3029422760009766, 2.3027777671813965, 2.3027191162109375, 2.302753210067749, 2.302872896194458, 2.3029701709747314, 2.302804708480835, 2.302586317062378, 2.302849292755127], [2.303600311279297, 2.303173065185547, 2.303170680999756, 2.3029794692993164, 2.3031063079833984, 2.3028643131256104, 2.302830219268799, 2.302980899810791, 2.3028879165649414, 2.3026909828186035]]\n"
     ]
    }
   ],
   "source": [
    "print(loss_histories)"
   ]
  },
  {
   "cell_type": "code",
   "execution_count": 13,
   "id": "1afff984",
   "metadata": {},
   "outputs": [
    {
     "name": "stdout",
     "output_type": "stream",
     "text": [
      "9.899999618530273\n",
      "9.989999771118164\n",
      "9.380000114440918\n"
     ]
    }
   ],
   "source": [
    "for i in range(len(accuracies)):\n",
    "    print(f\"Value of k: {k_percents[i]}, accuracy: {accuracies[i].item()}\")"
   ]
  },
  {
   "cell_type": "code",
   "execution_count": null,
   "id": "a2fd110b",
   "metadata": {},
   "outputs": [],
   "source": []
  }
 ],
 "metadata": {
  "kernelspec": {
   "display_name": "Python [conda env:deeplearning]",
   "language": "python",
   "name": "conda-env-deeplearning-py"
  },
  "language_info": {
   "codemirror_mode": {
    "name": "ipython",
    "version": 3
   },
   "file_extension": ".py",
   "mimetype": "text/x-python",
   "name": "python",
   "nbconvert_exporter": "python",
   "pygments_lexer": "ipython3",
   "version": "3.9.7"
  }
 },
 "nbformat": 4,
 "nbformat_minor": 5
}
